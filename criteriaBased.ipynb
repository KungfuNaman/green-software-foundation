{
 "cells": [
  {
   "cell_type": "code",
   "execution_count": 5,
   "id": "b3bf8ee3",
   "metadata": {},
   "outputs": [],
   "source": [
    "import os\n",
    "from dotenv import load_dotenv\n",
    "\n",
    "load_dotenv()\n",
    "\n",
    "OPENAI_API_KEY = os.getenv(\"OPENAI_API_KEY\")\n",
    "# MODEL = \"gpt-3.5-turbo\"\n",
    "# MODEL = \"mixtral:8x7b\"\n",
    "MODEL = \"llama2\""
   ]
  },
  {
   "cell_type": "code",
   "execution_count": 6,
   "id": "a7dcdb16",
   "metadata": {},
   "outputs": [],
   "source": [
    "from langchain_community.llms import Ollama\n",
    "from langchain_openai.chat_models import ChatOpenAI\n",
    "from langchain_community.embeddings import OllamaEmbeddings\n",
    "from langchain_openai.embeddings import OpenAIEmbeddings\n",
    "\n",
    "if MODEL.startswith(\"gpt\"):\n",
    "    model = ChatOpenAI(openai_api_key=OPENAI_API_KEY, model=MODEL)\n",
    "    embeddings = OpenAIEmbeddings()\n",
    "else:\n",
    "    model = Ollama(model=MODEL)\n",
    "    embeddings = OllamaEmbeddings(model=MODEL)"
   ]
  },
  {
   "cell_type": "code",
   "execution_count": 7,
   "id": "cb470b1a",
   "metadata": {
    "lines_to_next_cell": 1
   },
   "outputs": [],
   "source": [
    "# Rule-based evaluation function\n",
    "def evaluate_document_rule_based(document_content):\n",
    "    scores = {\n",
    "        \"Energy Efficiency\": 0,\n",
    "        \"Maintainability\": 0,\n",
    "        \"Scalability\": 0,\n",
    "        \"Green Software Compliance\": 0\n",
    "    }\n",
    "\n",
    "    keywords = {\n",
    "        \"Energy Efficiency\": [\"energy-efficient\", \"low power\", \"optimized\"],\n",
    "        \"Maintainability\": [\"maintainable\", \"easy to update\", \"modular\"],\n",
    "        \"Scalability\": [\"scalable\", \"scalability\", \"expandable\"],\n",
    "        \"Green Software Compliance\": [\"green software\", \"eco-friendly\", \"compliant\"]\n",
    "    }\n",
    "\n",
    "    for criterion, words in keywords.items():\n",
    "        for word in words:\n",
    "            if word in document_content.lower():\n",
    "                scores[criterion] += 1\n",
    "\n",
    "    for criterion in scores:\n",
    "        if scores[criterion] > 0:\n",
    "            scores[criterion] = min(5, scores[criterion])\n",
    "        else:\n",
    "            scores[criterion] = 1\n",
    "\n",
    "    return scores"
   ]
  },
  {
   "cell_type": "code",
   "execution_count": 8,
   "id": "50fd7ccb",
   "metadata": {
    "lines_to_next_cell": 1
   },
   "outputs": [
    {
     "name": "stderr",
     "output_type": "stream",
     "text": [
      "Ignoring wrong pointing object 6 0 (offset 0)\n"
     ]
    },
    {
     "name": "stderr",
     "output_type": "stream",
     "text": [
      "Ignoring wrong pointing object 11 0 (offset 0)\n",
      "Ignoring wrong pointing object 13 0 (offset 0)\n",
      "Ignoring wrong pointing object 15 0 (offset 0)\n",
      "Ignoring wrong pointing object 17 0 (offset 0)\n",
      "Ignoring wrong pointing object 25 0 (offset 0)\n",
      "Ignoring wrong pointing object 27 0 (offset 0)\n",
      "Ignoring wrong pointing object 29 0 (offset 0)\n",
      "Ignoring wrong pointing object 36 0 (offset 0)\n",
      "Ignoring wrong pointing object 39 0 (offset 0)\n",
      "Ignoring wrong pointing object 72 0 (offset 0)\n",
      "Ignoring wrong pointing object 74 0 (offset 0)\n",
      "Ignoring wrong pointing object 76 0 (offset 0)\n",
      "Ignoring wrong pointing object 115 0 (offset 0)\n",
      "Ignoring wrong pointing object 117 0 (offset 0)\n",
      "Ignoring wrong pointing object 159 0 (offset 0)\n",
      "Ignoring wrong pointing object 194 0 (offset 0)\n",
      "Ignoring wrong pointing object 205 0 (offset 0)\n",
      "/Users/naman/Documents/groupProject/SimpleApplication/.venv/lib/python3.11/site-packages/pydantic/_migration.py:283: UserWarning: `pydantic.error_wrappers:ValidationError` has been moved to `pydantic:ValidationError`.\n",
      "  warnings.warn(f'`{import_path}` has been moved to `{new_location}`.')\n"
     ]
    }
   ],
   "source": [
    "from langchain_core.output_parsers import StrOutputParser\n",
    "from langchain.prompts import PromptTemplate\n",
    "from langchain_community.document_loaders import PyPDFLoader\n",
    "from langchain_community.vectorstores import DocArrayInMemorySearch\n",
    "from operator import itemgetter\n",
    "\n",
    "\n",
    "\n",
    "\n",
    "\n",
    "# Define prompt template\n",
    "template = \"\"\"\n",
    "Extract the following information from the software architecture document and provide the details in the specified JSON structure:\n",
    "\n",
    "structured_data = {{\n",
    "    \"Document Metadata\": {{\n",
    "        \"Document ID\": \"\",\n",
    "        \"Document Title\": \"\",\n",
    "        \"Version\": \"\",\n",
    "        \"Date\": \"\",\n",
    "        \"Author\": \"\",\n",
    "        \"Company\": \"\"\n",
    "    }},\n",
    "    \"Infrastructure Details\": {{\n",
    "        \"Servers\": [\n",
    "            {{\n",
    "                \"Type\": \"\",\n",
    "                \"Quantity\": 0,\n",
    "                \"Power Consumption\": 0.0\n",
    "            }},\n",
    "            {{\n",
    "                \"Type\": \"\",\n",
    "                \"Quantity\": 0,\n",
    "                \"Power Consumption\": 0.0\n",
    "            }},\n",
    "            {{\n",
    "                \"Type\": \"\",\n",
    "                \"Quantity\": 0,\n",
    "                \"Power Consumption\": 0.0\n",
    "            }}\n",
    "        ],\n",
    "        \"Data Centers\": {{\n",
    "            \"Location\": \"\",\n",
    "            \"Energy Source\": \"\"\n",
    "        }}\n",
    "    }},\n",
    "    \"Software Architecture\": {{\n",
    "        \"Deployment Model\": {{\n",
    "            \"Architecture\": \"\",\n",
    "            \"Clustering\": \"\"\n",
    "        }},\n",
    "        \"Software Layers\": {{\n",
    "            \"Presentation Layer\": \"\",\n",
    "            \"Control Layer\": \"\",\n",
    "            \"Resource Layer\": \"\",\n",
    "            \"Domain Layer\": \"\",\n",
    "            \"Common Elements Layer\": \"\"\n",
    "        }}\n",
    "    }},\n",
    "    \"Operational Details\": {{\n",
    "        \"Transactions\": {{\n",
    "            \"Average Daily Transactions\": 0,\n",
    "            \"Peak Usage Times\": \"\"\n",
    "        }},\n",
    "        \"User Base\": {{\n",
    "            \"Number of Individual Users\": 0,\n",
    "            \"Number of Corporate Users\": 0\n",
    "        }}\n",
    "    }},\n",
    "    \"Security and Compliance\": {{\n",
    "        \"Security Measures\": {{\n",
    "            \"Authentication\": \"\",\n",
    "            \"Authorization\": \"\",\n",
    "            \"Encryption\": \"\"\n",
    "        }},\n",
    "        \"Compliance Requirements\": \"\"\n",
    "    }},\n",
    "    \"Performance and Reliability\": {{\n",
    "        \"Performance Metrics\": {{\n",
    "            \"Response Time\": \"\",\n",
    "            \"Scalability\": \"\"\n",
    "        }},\n",
    "        \"Availability\": {{\n",
    "            \"Uptime Requirements\": \"\",\n",
    "            \"Failover Mechanisms\": \"\"\n",
    "        }}\n",
    "    }},\n",
    "    \"Internationalization\": {{\n",
    "        \"Supported Languages\": [],\n",
    "        \"Localization Features\": \"\"\n",
    "    }},\n",
    "    \"Data Persistence\": {{\n",
    "        \"Database Type\": \"\",\n",
    "        \"Storage Requirements\": \"\",\n",
    "        \"Backup and Recovery\": \"\"\n",
    "    }},\n",
    "    \"Quality Attributes\": {{\n",
    "        \"Scalability\": \"\",\n",
    "        \"Reliability\": \"\",\n",
    "        \"Portability\": \"\",\n",
    "        \"Security\": \"\"\n",
    "    }}\n",
    "}}\n",
    "\n",
    "Context: {context}\n",
    "\n",
    "# Provide a score (1-5) for each criterion and a brief justification for each score.\n",
    "\"\"\"\n",
    "\n",
    "prompt = PromptTemplate.from_template(template)\n",
    "\n",
    "# Load and split PDF document\n",
    "loader = PyPDFLoader(\"documents/3.pdf\")\n",
    "pages = loader.load_and_split()\n",
    "\n",
    "# Create vector store\n",
    "vectorstore = DocArrayInMemorySearch.from_documents(pages, embedding=embeddings)\n",
    "\n",
    "# Initialize retriever\n",
    "retriever = vectorstore.as_retriever()\n",
    "\n",
    "# Define chain with prompt, model, and parser\n",
    "parser = StrOutputParser()\n",
    "chain = (\n",
    "    {\n",
    "        \"context\": itemgetter(\"question\") | retriever,\n",
    "        \"question\": itemgetter(\"question\"),\n",
    "    }\n",
    "    | prompt\n",
    "    | model\n",
    "    | parser\n",
    ")"
   ]
  },
  {
   "cell_type": "code",
   "execution_count": 12,
   "id": "d201a5ff",
   "metadata": {},
   "outputs": [],
   "source": [
    "parser = StrOutputParser()\n",
    "chain = (\n",
    "    {\n",
    "        \"context\": itemgetter(\"question\") | retriever,\n",
    "        \"question\": itemgetter(\"question\"),\n",
    "    }\n",
    "    | prompt\n",
    "    | model\n",
    "    | parser\n",
    ")"
   ]
  },
  {
   "cell_type": "code",
   "execution_count": 15,
   "id": "9fdf7b68",
   "metadata": {},
   "outputs": [
    {
     "ename": "NameError",
     "evalue": "name 'question' is not defined",
     "output_type": "error",
     "traceback": [
      "\u001b[0;31m---------------------------------------------------------------------------\u001b[0m",
      "\u001b[0;31mNameError\u001b[0m                                 Traceback (most recent call last)",
      "Cell \u001b[0;32mIn[15], line 1\u001b[0m\n\u001b[0;32m----> 1\u001b[0m llm_response \u001b[38;5;241m=\u001b[39m chain\u001b[38;5;241m.\u001b[39minvoke({\u001b[43mquestion\u001b[49m:\u001b[38;5;124m\"\u001b[39m\u001b[38;5;124mExtract the following information from the software architecture document and provide the details in the specified JSON structure \u001b[39m\u001b[38;5;124m\"\u001b[39m})\n",
      "\u001b[0;31mNameError\u001b[0m: name 'question' is not defined"
     ]
    }
   ],
   "source": [
    "llm_response = chain.invoke({\"question\":\"Extract the following information from the software architecture document and provide the details in the specified JSON structure \"})\n"
   ]
  },
  {
   "cell_type": "code",
   "execution_count": 9,
   "id": "c1017682",
   "metadata": {
    "lines_to_next_cell": 1
   },
   "outputs": [],
   "source": [
    "# Function to evaluate a document\n",
    "def evaluate_document(document_path):\n",
    "    loader = PyPDFLoader(document_path)\n",
    "    pages = loader.load_and_split()\n",
    "    document_content = \"\\n\".join([page.page_content for page in pages])\n",
    "    \n",
    "    # Use the rule-based system for initial evaluation\n",
    "    rule_based_scores = evaluate_document_rule_based(document_content)\n",
    "    \n",
    "    # Combine rule-based scores with LLM evaluation if needed\n",
    "    question = \"Evaluate the document based on sustainability criteria.\"\n",
    "    context = document_content\n",
    "    llm_response = chain.invoke({\"context\": context, \"question\": question})\n",
    "    \n",
    "    return rule_based_scores, llm_response"
   ]
  },
  {
   "cell_type": "code",
   "execution_count": 10,
   "id": "c1cb7748",
   "metadata": {},
   "outputs": [
    {
     "ename": "ValueError",
     "evalue": "File path 2.pdf is not a valid file or url",
     "output_type": "error",
     "traceback": [
      "\u001b[0;31m---------------------------------------------------------------------------\u001b[0m",
      "\u001b[0;31mValueError\u001b[0m                                Traceback (most recent call last)",
      "Cell \u001b[0;32mIn[10], line 3\u001b[0m\n\u001b[1;32m      1\u001b[0m \u001b[38;5;66;03m# Example usage\u001b[39;00m\n\u001b[1;32m      2\u001b[0m document_path \u001b[38;5;241m=\u001b[39m \u001b[38;5;124m\"\u001b[39m\u001b[38;5;124m2.pdf\u001b[39m\u001b[38;5;124m\"\u001b[39m\n\u001b[0;32m----> 3\u001b[0m rule_based_result, llm_result \u001b[38;5;241m=\u001b[39m \u001b[43mevaluate_document\u001b[49m\u001b[43m(\u001b[49m\u001b[43mdocument_path\u001b[49m\u001b[43m)\u001b[49m\n\u001b[1;32m      4\u001b[0m \u001b[38;5;28mprint\u001b[39m(\u001b[38;5;124m\"\u001b[39m\u001b[38;5;124mRule-Based Result:\u001b[39m\u001b[38;5;124m\"\u001b[39m, rule_based_result)\n\u001b[1;32m      5\u001b[0m \u001b[38;5;28mprint\u001b[39m(\u001b[38;5;124m\"\u001b[39m\u001b[38;5;124mLLM Result:\u001b[39m\u001b[38;5;124m\"\u001b[39m, llm_result)\n",
      "Cell \u001b[0;32mIn[9], line 3\u001b[0m, in \u001b[0;36mevaluate_document\u001b[0;34m(document_path)\u001b[0m\n\u001b[1;32m      2\u001b[0m \u001b[38;5;28;01mdef\u001b[39;00m \u001b[38;5;21mevaluate_document\u001b[39m(document_path):\n\u001b[0;32m----> 3\u001b[0m     loader \u001b[38;5;241m=\u001b[39m \u001b[43mPyPDFLoader\u001b[49m\u001b[43m(\u001b[49m\u001b[43mdocument_path\u001b[49m\u001b[43m)\u001b[49m\n\u001b[1;32m      4\u001b[0m     pages \u001b[38;5;241m=\u001b[39m loader\u001b[38;5;241m.\u001b[39mload_and_split()\n\u001b[1;32m      5\u001b[0m     document_content \u001b[38;5;241m=\u001b[39m \u001b[38;5;124m\"\u001b[39m\u001b[38;5;130;01m\\n\u001b[39;00m\u001b[38;5;124m\"\u001b[39m\u001b[38;5;241m.\u001b[39mjoin([page\u001b[38;5;241m.\u001b[39mpage_content \u001b[38;5;28;01mfor\u001b[39;00m page \u001b[38;5;129;01min\u001b[39;00m pages])\n",
      "File \u001b[0;32m~/Documents/groupProject/SimpleApplication/.venv/lib/python3.11/site-packages/langchain_community/document_loaders/pdf.py:182\u001b[0m, in \u001b[0;36mPyPDFLoader.__init__\u001b[0;34m(self, file_path, password, headers, extract_images)\u001b[0m\n\u001b[1;32m    178\u001b[0m \u001b[38;5;28;01mexcept\u001b[39;00m \u001b[38;5;167;01mImportError\u001b[39;00m:\n\u001b[1;32m    179\u001b[0m     \u001b[38;5;28;01mraise\u001b[39;00m \u001b[38;5;167;01mImportError\u001b[39;00m(\n\u001b[1;32m    180\u001b[0m         \u001b[38;5;124m\"\u001b[39m\u001b[38;5;124mpypdf package not found, please install it with \u001b[39m\u001b[38;5;124m\"\u001b[39m \u001b[38;5;124m\"\u001b[39m\u001b[38;5;124m`pip install pypdf`\u001b[39m\u001b[38;5;124m\"\u001b[39m\n\u001b[1;32m    181\u001b[0m     )\n\u001b[0;32m--> 182\u001b[0m \u001b[38;5;28;43msuper\u001b[39;49m\u001b[43m(\u001b[49m\u001b[43m)\u001b[49m\u001b[38;5;241;43m.\u001b[39;49m\u001b[38;5;21;43m__init__\u001b[39;49m\u001b[43m(\u001b[49m\u001b[43mfile_path\u001b[49m\u001b[43m,\u001b[49m\u001b[43m \u001b[49m\u001b[43mheaders\u001b[49m\u001b[38;5;241;43m=\u001b[39;49m\u001b[43mheaders\u001b[49m\u001b[43m)\u001b[49m\n\u001b[1;32m    183\u001b[0m \u001b[38;5;28mself\u001b[39m\u001b[38;5;241m.\u001b[39mparser \u001b[38;5;241m=\u001b[39m PyPDFParser(password\u001b[38;5;241m=\u001b[39mpassword, extract_images\u001b[38;5;241m=\u001b[39mextract_images)\n",
      "File \u001b[0;32m~/Documents/groupProject/SimpleApplication/.venv/lib/python3.11/site-packages/langchain_community/document_loaders/pdf.py:116\u001b[0m, in \u001b[0;36mBasePDFLoader.__init__\u001b[0;34m(self, file_path, headers)\u001b[0m\n\u001b[1;32m    114\u001b[0m         \u001b[38;5;28mself\u001b[39m\u001b[38;5;241m.\u001b[39mfile_path \u001b[38;5;241m=\u001b[39m \u001b[38;5;28mstr\u001b[39m(temp_pdf)\n\u001b[1;32m    115\u001b[0m \u001b[38;5;28;01melif\u001b[39;00m \u001b[38;5;129;01mnot\u001b[39;00m os\u001b[38;5;241m.\u001b[39mpath\u001b[38;5;241m.\u001b[39misfile(\u001b[38;5;28mself\u001b[39m\u001b[38;5;241m.\u001b[39mfile_path):\n\u001b[0;32m--> 116\u001b[0m     \u001b[38;5;28;01mraise\u001b[39;00m \u001b[38;5;167;01mValueError\u001b[39;00m(\u001b[38;5;124m\"\u001b[39m\u001b[38;5;124mFile path \u001b[39m\u001b[38;5;132;01m%s\u001b[39;00m\u001b[38;5;124m is not a valid file or url\u001b[39m\u001b[38;5;124m\"\u001b[39m \u001b[38;5;241m%\u001b[39m \u001b[38;5;28mself\u001b[39m\u001b[38;5;241m.\u001b[39mfile_path)\n",
      "\u001b[0;31mValueError\u001b[0m: File path 2.pdf is not a valid file or url"
     ]
    }
   ],
   "source": [
    "# Example usage\n",
    "document_path = \"2.pdf\"\n",
    "rule_based_result, llm_result = evaluate_document(document_path)\n",
    "print(\"Rule-Based Result:\", rule_based_result)\n",
    "print(\"LLM Result:\", llm_result)"
   ]
  }
 ],
 "metadata": {
  "jupytext": {
   "cell_metadata_filter": "-all",
   "main_language": "python",
   "notebook_metadata_filter": "-all"
  },
  "kernelspec": {
   "display_name": ".venv",
   "language": "python",
   "name": "python3"
  },
  "language_info": {
   "codemirror_mode": {
    "name": "ipython",
    "version": 3
   },
   "file_extension": ".py",
   "mimetype": "text/x-python",
   "name": "python",
   "nbconvert_exporter": "python",
   "pygments_lexer": "ipython3",
   "version": "3.11.7"
  }
 },
 "nbformat": 4,
 "nbformat_minor": 5
}

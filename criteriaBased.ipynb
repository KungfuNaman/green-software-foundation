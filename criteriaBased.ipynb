{
 "cells": [
  {
   "cell_type": "code",
   "execution_count": 5,
   "id": "b3bf8ee3",
   "metadata": {},
   "outputs": [],
   "source": [
    "import os\n",
    "from dotenv import load_dotenv\n",
    "\n",
    "load_dotenv()\n",
    "\n",
    "OPENAI_API_KEY = os.getenv(\"OPENAI_API_KEY\")\n",
    "# MODEL = \"gpt-3.5-turbo\"\n",
    "# MODEL = \"mixtral:8x7b\"\n",
    "MODEL = \"llama2\""
   ]
  },
  {
   "cell_type": "code",
   "execution_count": 6,
   "id": "a7dcdb16",
   "metadata": {},
   "outputs": [],
   "source": [
    "from langchain_community.llms import Ollama\n",
    "from langchain_openai.chat_models import ChatOpenAI\n",
    "from langchain_community.embeddings import OllamaEmbeddings\n",
    "from langchain_openai.embeddings import OpenAIEmbeddings\n",
    "\n",
    "if MODEL.startswith(\"gpt\"):\n",
    "    model = ChatOpenAI(openai_api_key=OPENAI_API_KEY, model=MODEL)\n",
    "    embeddings = OpenAIEmbeddings()\n",
    "else:\n",
    "    model = Ollama(model=MODEL)\n",
    "    embeddings = OllamaEmbeddings(model=MODEL)"
   ]
  },
  {
   "cell_type": "code",
   "execution_count": 7,
   "id": "cb470b1a",
   "metadata": {
    "lines_to_next_cell": 1
   },
   "outputs": [],
   "source": [
    "# Rule-based evaluation function\n",
    "def evaluate_document_rule_based(document_content):\n",
    "    scores = {\n",
    "        \"Energy Efficiency\": 0,\n",
    "        \"Maintainability\": 0,\n",
    "        \"Scalability\": 0,\n",
    "        \"Green Software Compliance\": 0\n",
    "    }\n",
    "\n",
    "    keywords = {\n",
    "        \"Energy Efficiency\": [\"energy-efficient\", \"low power\", \"optimized\"],\n",
    "        \"Maintainability\": [\"maintainable\", \"easy to update\", \"modular\"],\n",
    "        \"Scalability\": [\"scalable\", \"scalability\", \"expandable\"],\n",
    "        \"Green Software Compliance\": [\"green software\", \"eco-friendly\", \"compliant\"]\n",
    "    }\n",
    "\n",
    "    for criterion, words in keywords.items():\n",
    "        for word in words:\n",
    "            if word in document_content.lower():\n",
    "                scores[criterion] += 1\n",
    "\n",
    "    for criterion in scores:\n",
    "        if scores[criterion] > 0:\n",
    "            scores[criterion] = min(5, scores[criterion])\n",
    "        else:\n",
    "            scores[criterion] = 1\n",
    "\n",
    "    return scores"
   ]
  },
  {
   "cell_type": "code",
   "execution_count": 8,
   "id": "50fd7ccb",
   "metadata": {
    "lines_to_next_cell": 1
   },
   "outputs": [],
   "source": [
    "from langchain_core.output_parsers import StrOutputParser\n",
    "from langchain.prompts import PromptTemplate\n",
    "from langchain_community.document_loaders import PyPDFLoader\n",
    "from langchain_community.vectorstores import DocArrayInMemorySearch\n",
    "from operator import itemgetter\n",
    "\n",
    "\n",
    "\n",
    "\n",
    "\n",
    "# Define prompt template\n",
    "template = \"\"\"\n",
    "Evaluate the software architecture document based on the following sustainability criteria:\n",
    "1. Energy Efficiency\n",
    "2. Maintainability\n",
    "3. Scalability\n",
    "4. Green Software Compliance\n",
    "\n",
    "Context: {context}\n",
    "\n",
    "Provide a score (1-5) for each criterion and a brief justification for each score.\n",
    "\"\"\"\n",
    "\n",
    "prompt = PromptTemplate.from_template(template)\n",
    "\n",
    "# Load and split PDF document\n",
    "loader = PyPDFLoader(\"2.pdf\")\n",
    "pages = loader.load_and_split()\n",
    "\n",
    "# Create vector store\n",
    "vectorstore = DocArrayInMemorySearch.from_documents(pages, embedding=embeddings)\n",
    "\n",
    "# Initialize retriever\n",
    "retriever = vectorstore.as_retriever()\n",
    "\n",
    "# Define chain with prompt, model, and parser\n",
    "parser = StrOutputParser()\n",
    "chain = (\n",
    "    {\n",
    "        \"context\": itemgetter(\"question\") | retriever,\n",
    "        \"question\": itemgetter(\"question\"),\n",
    "    }\n",
    "    | prompt\n",
    "    | model\n",
    "    | parser\n",
    ")"
   ]
  },
  {
   "cell_type": "code",
   "execution_count": 9,
   "id": "c1017682",
   "metadata": {
    "lines_to_next_cell": 1
   },
   "outputs": [],
   "source": [
    "# Function to evaluate a document\n",
    "def evaluate_document(document_path):\n",
    "    loader = PyPDFLoader(document_path)\n",
    "    pages = loader.load_and_split()\n",
    "    document_content = \"\\n\".join([page.page_content for page in pages])\n",
    "    \n",
    "    # Use the rule-based system for initial evaluation\n",
    "    rule_based_scores = evaluate_document_rule_based(document_content)\n",
    "    \n",
    "    # Combine rule-based scores with LLM evaluation if needed\n",
    "    question = \"Evaluate the document based on sustainability criteria.\"\n",
    "    context = document_content\n",
    "    llm_response = chain.invoke({\"context\": context, \"question\": question})\n",
    "    \n",
    "    return rule_based_scores, llm_response"
   ]
  },
  {
   "cell_type": "code",
   "execution_count": 10,
   "id": "c1cb7748",
   "metadata": {},
   "outputs": [
    {
     "name": "stdout",
     "output_type": "stream",
     "text": [
      "Rule-Based Result: {'Energy Efficiency': 1, 'Maintainability': 1, 'Scalability': 1, 'Green Software Compliance': 1}\n",
      "LLM Result: Certainly! Based on the provided document, here are my scores and explanations for each criterion:\n",
      "\n",
      "1. Completeness: 4/5\n",
      "The document provides a detailed explanation of the architecture and design of the system, including the data model, data access layer, software architecture, and external APIs. However, there is no information on the system's performance or security aspects, which are crucial for a comprehensive evaluation. Therefore, I score it 4 out of 5.\n",
      "2. Reusability: 3/5\n",
      "While the document does mention the use of technology-specific frameworks for database interaction and external tools for report and form generation, there is no information on the modularity or abstraction of the system's components. This makes it difficult to assess the reusability of the system's components. Therefore, I score it 3 out of 5.\n",
      "3. Maintainability: 4/5\n",
      "The document provides a clear explanation of the data model and its relationship with the domain layer, which is essential for maintaining the system. Additionally, the use of technology-specific frameworks for database interaction and external tools for report and form generation can help reduce maintenance efforts. However, there is no information on the system's scalability or fault tolerance, which are important aspects of maintainability. Therefore, I score it 4 out of 5.\n",
      "4. Flexibility: 3/5\n",
      "The document mentions the use of external APIs for report and form generation, which can help improve the system's flexibility by allowing for the integration of third-party tools. However, there is no information on the system's modularity or abstraction of its components, which are essential for evaluating its flexibility. Therefore, I score it 3 out of 5.\n",
      "5. Robustness: 2/5\n",
      "There is no information in the document on the system's robustness or fault tolerance, which are crucial aspects of a comprehensive evaluation. Therefore, I score it 2 out of 5.\n",
      "\n",
      "Brief justification for each score:\n",
      "\n",
      "1. Completeness: The document provides a detailed explanation of the system's architecture and design, but there is no information on its performance or security aspects, which are important for a comprehensive evaluation.\n",
      "2. Reusability: There is no information in the document on the system's modularity or abstraction of its components, which are essential for evaluating its reusability.\n",
      "3. Maintainability: The document provides a clear explanation of the data model and its relationship with the domain layer, which is important for maintaining the system. However, there is no information on the system's scalability or fault tolerance, which are important aspects of maintainability.\n",
      "4. Flexibility: While the document mentions the use of external APIs for report and form generation, there is no information on the system's modularity or abstraction of its components, which are essential for evaluating its flexibility.\n",
      "5. Robustness: There is no information in the document on the system's robustness or fault tolerance, which are crucial aspects of a comprehensive evaluation.\n"
     ]
    }
   ],
   "source": [
    "# Example usage\n",
    "document_path = \"2.pdf\"\n",
    "rule_based_result, llm_result = evaluate_document(document_path)\n",
    "print(\"Rule-Based Result:\", rule_based_result)\n",
    "print(\"LLM Result:\", llm_result)"
   ]
  }
 ],
 "metadata": {
  "jupytext": {
   "cell_metadata_filter": "-all",
   "main_language": "python",
   "notebook_metadata_filter": "-all"
  },
  "kernelspec": {
   "display_name": ".venv",
   "language": "python",
   "name": "python3"
  },
  "language_info": {
   "codemirror_mode": {
    "name": "ipython",
    "version": 3
   },
   "file_extension": ".py",
   "mimetype": "text/x-python",
   "name": "python",
   "nbconvert_exporter": "python",
   "pygments_lexer": "ipython3",
   "version": "3.11.7"
  }
 },
 "nbformat": 4,
 "nbformat_minor": 5
}

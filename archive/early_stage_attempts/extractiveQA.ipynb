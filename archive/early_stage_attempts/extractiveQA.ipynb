{
 "cells": [
  {
   "cell_type": "code",
   "execution_count": 1,
   "id": "5f2a9768",
   "metadata": {},
   "outputs": [
    {
     "name": "stderr",
     "output_type": "stream",
     "text": [
      "/Users/liluming/Desktop/ImpactFramework_Project/green-software-foundation/.venv/lib/python3.12/site-packages/tqdm/auto.py:21: TqdmWarning: IProgress not found. Please update jupyter and ipywidgets. See https://ipywidgets.readthedocs.io/en/stable/user_install.html\n",
      "  from .autonotebook import tqdm as notebook_tqdm\n",
      "Calculating embeddings: 100%|██████████| 1/1 [00:18<00:00, 18.14s/it]\n"
     ]
    },
    {
     "data": {
      "text/plain": [
       "{'embedder_doc': {'meta': {'model': 'llama2'}},\n",
       " 'writer': {'documents_written': 1}}"
      ]
     },
     "execution_count": 1,
     "metadata": {},
     "output_type": "execute_result"
    }
   ],
   "source": [
    "from haystack import Document\n",
    "from haystack import Pipeline\n",
    "from haystack.document_stores.in_memory import InMemoryDocumentStore\n",
    "from haystack.components.writers import DocumentWriter\n",
    "from haystack_integrations.components.generators.ollama import OllamaGenerator\n",
    "from haystack_integrations.components.embedders.ollama.document_embedder import OllamaDocumentEmbedder\n",
    "from haystack_integrations.components.embedders.ollama.text_embedder import OllamaTextEmbedder\n",
    "import pymupdf4llm\n",
    "\n",
    "\n",
    "def extractWithImages(pdfPath):\n",
    "    md_text = pymupdf4llm.to_markdown(pdfPath, write_images=True)\n",
    "    return md_text\n",
    "\n",
    "pdf_path=\"./documents/3.pdf\"\n",
    "dataset = extractWithImages(pdf_path)\n",
    "\n",
    "documents = [Document(content=dataset, meta={\"source\": pdf_path})]\n",
    "\n",
    "model = \"llama2\"\n",
    "url = \"http://localhost:11434/api/embeddings\"\n",
    "\"\"\" model = OllamaGenerator(model=\"llama2\",\n",
    "                            url = \"http://localhost:11434/api/generate\",\n",
    "                            generation_kwargs={\n",
    "                              \"num_predict\": 100,\n",
    "                              \"temperature\": 0.9,\n",
    "                              }) \"\"\"\n",
    "\n",
    "document_store = InMemoryDocumentStore()\n",
    "\n",
    "indexing_pipeline = Pipeline()\n",
    "\n",
    "indexing_pipeline.add_component(instance=OllamaDocumentEmbedder(model=model, url=url), name=\"embedder_doc\")\n",
    "indexing_pipeline.add_component(instance=DocumentWriter(document_store=document_store), name=\"writer\")\n",
    "indexing_pipeline.connect(\"embedder_doc.documents\", \"writer.documents\")\n",
    "\n",
    "indexing_pipeline.run({\"documents\": documents})"
   ]
  },
  {
   "cell_type": "code",
   "execution_count": 2,
   "id": "4b682e71",
   "metadata": {},
   "outputs": [
    {
     "data": {
      "text/plain": [
       "<haystack.core.pipeline.pipeline.Pipeline object at 0x110eac7d0>\n",
       "🚅 Components\n",
       "  - embedder: OllamaTextEmbedder\n",
       "  - retriever: InMemoryEmbeddingRetriever\n",
       "  - reader: ExtractiveReader\n",
       "🛤️ Connections\n",
       "  - embedder.embedding -> retriever.query_embedding (List[float])\n",
       "  - retriever.documents -> reader.documents (List[Document])"
      ]
     },
     "execution_count": 2,
     "metadata": {},
     "output_type": "execute_result"
    }
   ],
   "source": [
    "from haystack.components.retrievers.in_memory import InMemoryEmbeddingRetriever\n",
    "from haystack.components.readers import ExtractiveReader\n",
    "from haystack.components.embedders import SentenceTransformersTextEmbedder\n",
    "\n",
    "\n",
    "retriever = InMemoryEmbeddingRetriever(document_store=document_store)\n",
    "reader = ExtractiveReader()\n",
    "reader.warm_up()\n",
    "\n",
    "extractive_qa_pipeline = Pipeline()\n",
    "\n",
    "extractive_qa_pipeline.add_component(instance=OllamaTextEmbedder(model=model, url=url), name=\"embedder\")\n",
    "extractive_qa_pipeline.add_component(instance=retriever, name=\"retriever\")\n",
    "extractive_qa_pipeline.add_component(instance=reader, name=\"reader\")\n",
    "\n",
    "extractive_qa_pipeline.connect(\"embedder.embedding\", \"retriever.query_embedding\")\n",
    "extractive_qa_pipeline.connect(\"retriever.documents\", \"reader.documents\")"
   ]
  },
  {
   "cell_type": "markdown",
   "id": "9ef64230",
   "metadata": {},
   "source": [
    "Try extracting some answers."
   ]
  },
  {
   "cell_type": "code",
   "execution_count": 3,
   "id": "60a29f7b",
   "metadata": {
    "lines_to_next_cell": 3
   },
   "outputs": [
    {
     "data": {
      "text/plain": [
       "{'embedder': {'meta': {'model': 'llama2',\n",
       "   'duration': datetime.timedelta(seconds=11, microseconds=904542)}},\n",
       " 'reader': {'answers': [ExtractedAnswer(query='what is the Estimated online orders?', score=0.8233605623245239, data='100 a day', document=Document(id=e0e0cebded82722dc00fa203859c616a5d5c6f91013c35ed4b7d8a7094b8b59a, content: '|Sample Software Architecture Document (version 0.7)|Col2|\n",
       "   |---|---|\n",
       "   \n",
       "   \n",
       "   # Software Architecture Docum...', meta: {'source': './documents/3.pdf'}, score: 1837.210506401047), context=None, document_offset=ExtractedAnswer.Span(start=20746, end=20755), context_offset=None, meta={}),\n",
       "   ExtractedAnswer(query='what is the Estimated online orders?', score=0.5708017945289612, data='---|---|\\n\\n\\nThe time left (8 hours) is reserved for any maintenance activities\\n\\n**3.6** **Performance**\\n\\nThe payment process (credit card authorization and confirmation) must be under 10 seconds.\\n\\n**3.7** **Internationalization (i18n)**\\n\\nThe online catering service of Yummy Inc must be able to deal with several languages (at least French and English)\\nSo the presentation layer must be able to support i18n.\\nOther layers must be generic enough to work with any internationalization context\\n\\n**4.** **Use-Case View**\\n\\nThis section lists use cases or scenarios from the use-case model if they represent some significant, central\\nfunctionality of the final system. The only use-case with a significant impact on the online catering architecture is\\nthe one related to online orders. It includes a search feature as well as a call to external services (delivery and\\npayment)\\n\\n**4.1** **Ordering Menus**\\n\\nA customer accesses the online catering application and search for the available menus. The customer chooses from\\na list of menus and select what she/he wants to order. Then, the customer performs an online payment (credit card).\\nOnce the payment has been validated, the customer confirms the order, enters her/his delivery information (name,\\naddress, phone number, etc..) and all the relevant information is sent to the Yummy Inc delivery service.\\n\\nConfidential Ó Yummy Inc', document=Document(id=e0e0cebded82722dc00fa203859c616a5d5c6f91013c35ed4b7d8a7094b8b59a, content: '|Sample Software Architecture Document (version 0.7)|Col2|\n",
       "   |---|---|\n",
       "   \n",
       "   \n",
       "   # Software Architecture Docum...', meta: {'source': './documents/3.pdf'}, score: 1837.210506401047), context=None, document_offset=ExtractedAnswer.Span(start=13779, end=15152), context_offset=None, meta={}),\n",
       "   ExtractedAnswer(query='what is the Estimated online orders?', score=0.5650209188461304, data='14**\\n\\n**8.** **IMPLEMENTATION VIEW ........................................................................................................................... 15**\\n\\n\\n8.1 O VERVIEW .................................................................................................................................................... 15\\n\\n8.2 L AYERS', document=Document(id=e0e0cebded82722dc00fa203859c616a5d5c6f91013c35ed4b7d8a7094b8b59a, content: '|Sample Software Architecture Document (version 0.7)|Col2|\n",
       "   |---|---|\n",
       "   \n",
       "   \n",
       "   # Software Architecture Docum...', meta: {'source': './documents/3.pdf'}, score: 1837.210506401047), context=None, document_offset=ExtractedAnswer.Span(start=4908, end=5252), context_offset=None, meta={}),\n",
       "   ExtractedAnswer(query='what is the Estimated online orders?', score=0.032977212477213656, data=None, document=None, context=None, document_offset=None, context_offset=None, meta={})]}}"
      ]
     },
     "execution_count": 3,
     "metadata": {},
     "output_type": "execute_result"
    }
   ],
   "source": [
    "query = \"what is the Estimated online orders?\"\n",
    "extractive_qa_pipeline.run(\n",
    "    data={\"embedder\": {\"text\": query}, \"retriever\": {\"top_k\": 3}, \"reader\": {\"query\": query, \"top_k\": 2}}\n",
    ")"
   ]
  }
 ],
 "metadata": {
  "jupytext": {
   "cell_metadata_filter": "-all",
   "main_language": "python",
   "notebook_metadata_filter": "-all"
  },
  "kernelspec": {
   "display_name": ".venv",
   "language": "python",
   "name": "python3"
  },
  "language_info": {
   "codemirror_mode": {
    "name": "ipython",
    "version": 3
   },
   "file_extension": ".py",
   "mimetype": "text/x-python",
   "name": "python",
   "nbconvert_exporter": "python",
   "pygments_lexer": "ipython3",
   "version": "3.12.3"
  }
 },
 "nbformat": 4,
 "nbformat_minor": 5
}

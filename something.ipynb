{
 "cells": [
  {
   "cell_type": "code",
   "execution_count": 17,
   "id": "ce96d670",
   "metadata": {},
   "outputs": [],
   "source": [
    "# Import necessary libraries\n",
    "import os\n",
    "from dotenv import load_dotenv\n",
    "import json\n",
    "from langchain_community.llms import Ollama\n",
    "from langchain_openai.chat_models import ChatOpenAI\n",
    "from langchain_community.embeddings import OllamaEmbeddings\n",
    "from langchain_openai.embeddings import OpenAIEmbeddings\n",
    "from langchain_core.output_parsers import StrOutputParser\n",
    "from langchain.prompts import PromptTemplate\n",
    "from langchain_community.document_loaders import PyPDFLoader\n",
    "from langchain_community.vectorstores import DocArrayInMemorySearch"
   ]
  },
  {
   "cell_type": "code",
   "execution_count": 18,
   "id": "6869121a",
   "metadata": {},
   "outputs": [
    {
     "data": {
      "text/plain": [
       "True"
      ]
     },
     "execution_count": 18,
     "metadata": {},
     "output_type": "execute_result"
    }
   ],
   "source": [
    "# Load environment variables\n",
    "load_dotenv()"
   ]
  },
  {
   "cell_type": "code",
   "execution_count": 19,
   "id": "56f75201",
   "metadata": {},
   "outputs": [],
   "source": [
    "# Set API key and model\n",
    "OPENAI_API_KEY = os.getenv(\"OPENAI_API_KEY\")\n",
    "MODEL = \"llama2\"  # Change model here if needed"
   ]
  },
  {
   "cell_type": "code",
   "execution_count": 20,
   "id": "63f375af",
   "metadata": {},
   "outputs": [],
   "source": [
    "# Initialize model and embeddings based on the model type\n",
    "if MODEL.startswith(\"gpt\"):\n",
    "    model = ChatOpenAI(openai_api_key=OPENAI_API_KEY, model=MODEL)\n",
    "    embeddings = OpenAIEmbeddings()\n",
    "else:\n",
    "    model = Ollama(model=MODEL)\n",
    "    embeddings = OllamaEmbeddings(model=MODEL)"
   ]
  },
  {
   "cell_type": "code",
   "execution_count": 33,
   "id": "06c6ab7e",
   "metadata": {},
   "outputs": [],
   "source": [
    "# Define prompt template\n",
    "template = \"\"\"\n",
    "Extract the following information from the software architecture document and provide the details in the specified JSON structure:\n",
    "\n",
    "structured_data = {{\n",
    "    \"Document Metadata\": {{\n",
    "        \"Document ID\": \"\",\n",
    "        \"Document Title\": \"\",\n",
    "        \"Version\": \"\",\n",
    "        \"Date\": \"\",\n",
    "        \"Author\": \"\",\n",
    "        \"Company\": \"\"\n",
    "    }},\n",
    "    \"Infrastructure Details\": {{\n",
    "        \"Servers\": [\n",
    "            {{\n",
    "                \"Type\": \"\",\n",
    "                \"Quantity\": 0,\n",
    "                \"Power Consumption\": 0.0\n",
    "            }},\n",
    "            {{\n",
    "                \"Type\": \"\",\n",
    "                \"Quantity\": 0,\n",
    "                \"Power Consumption\": 0.0\n",
    "            }},\n",
    "            {{\n",
    "                \"Type\": \"\",\n",
    "                \"Quantity\": 0,\n",
    "                \"Power Consumption\": 0.0\n",
    "            }}\n",
    "        ],\n",
    "        \"Data Centers\": {{\n",
    "            \"Location\": \"\",\n",
    "            \"Energy Source\": \"\"\n",
    "        }}\n",
    "    }},\n",
    "    \"Software Architecture\": {{\n",
    "        \"Deployment Model\": {{\n",
    "            \"Architecture\": \"\",\n",
    "            \"Clustering\": \"\"\n",
    "        }},\n",
    "        \"Software Layers\": {{\n",
    "            \"Presentation Layer\": \"\",\n",
    "            \"Control Layer\": \"\",\n",
    "            \"Resource Layer\": \"\",\n",
    "            \"Domain Layer\": \"\",\n",
    "            \"Common Elements Layer\": \"\"\n",
    "        }}\n",
    "    }},\n",
    "    \"Operational Details\": {{\n",
    "        \"Transactions\": {{\n",
    "            \"Average Daily Transactions\": 0,\n",
    "            \"Peak Usage Times\": \"\"\n",
    "        }},\n",
    "        \"User Base\": {{\n",
    "            \"Number of Individual Users\": 0,\n",
    "            \"Number of Corporate Users\": 0\n",
    "        }}\n",
    "    }},\n",
    "    \"Security and Compliance\": {{\n",
    "        \"Security Measures\": {{\n",
    "            \"Authentication\": \"\",\n",
    "            \"Authorization\": \"\",\n",
    "            \"Encryption\": \"\"\n",
    "        }},\n",
    "        \"Compliance Requirements\": \"\"\n",
    "    }},\n",
    "    \"Performance and Reliability\": {{\n",
    "        \"Performance Metrics\": {{\n",
    "            \"Response Time\": \"\",\n",
    "            \"Scalability\": \"\"\n",
    "        }},\n",
    "        \"Availability\": {{\n",
    "            \"Uptime Requirements\": \"\",\n",
    "            \"Failover Mechanisms\": \"\"\n",
    "        }}\n",
    "    }},\n",
    "    \"Internationalization\": {{\n",
    "        \"Supported Languages\": [],\n",
    "        \"Localization Features\": \"\"\n",
    "    }},\n",
    "    \"Data Persistence\": {{\n",
    "        \"Database Type\": \"\",\n",
    "        \"Storage Requirements\": \"\",\n",
    "        \"Backup and Recovery\": \"\"\n",
    "    }},\n",
    "    \"Quality Attributes\": {{\n",
    "        \"Scalability\": \"\",\n",
    "        \"Reliability\": \"\",\n",
    "        \"Portability\": \"\",\n",
    "        \"Security\": \"\"\n",
    "    }}\n",
    "}}\n",
    "\n",
    "# Context: {context}\n",
    "\"\"\""
   ]
  },
  {
   "cell_type": "code",
   "execution_count": 22,
   "id": "a2be9458",
   "metadata": {
    "lines_to_next_cell": 1
   },
   "outputs": [],
   "source": [
    "prompt = PromptTemplate.from_template(template)"
   ]
  },
  {
   "cell_type": "code",
   "execution_count": 23,
   "id": "2daaebd4",
   "metadata": {
    "lines_to_next_cell": 1
   },
   "outputs": [],
   "source": [
    "# Define function to create vector database\n",
    "def create_vector_database(document_path):\n",
    "    # Load and split PDF document\n",
    "    loader = PyPDFLoader(document_path)\n",
    "    pages = loader.load_and_split()\n",
    "    \n",
    "    # Create vector store\n",
    "    vectorstore = DocArrayInMemorySearch.from_documents(pages, embedding=embeddings)\n",
    "    \n",
    "    return vectorstore"
   ]
  },
  {
   "cell_type": "code",
   "execution_count": 30,
   "id": "dc0ea5f2",
   "metadata": {
    "lines_to_next_cell": 1
   },
   "outputs": [],
   "source": [
    "# Define function to generate structured data using the LLM\n",
    "def generate_response(vectorstore):\n",
    "    # Initialize retriever\n",
    "    retriever = vectorstore.as_retriever()\n",
    "    \n",
    "    # Combine context from retriever\n",
    "    context = \"\\n\".join([doc.page_content for doc in vectorstore.documents])\n",
    "    \n",
    "    # Define chain with prompt, model, and parser\n",
    "    parser = StrOutputParser()\n",
    "    chain = (\n",
    "        {\n",
    "            \"context\": retriever,\n",
    "        }\n",
    "        | prompt\n",
    "        | model\n",
    "        | parser\n",
    "    )\n",
    "    \n",
    "    # Invoke chain and parse response\n",
    "    llm_response = chain.invoke()\n",
    "    \n",
    "    return json.loads(llm_response)"
   ]
  },
  {
   "cell_type": "code",
   "execution_count": 25,
   "id": "993723a6",
   "metadata": {},
   "outputs": [
    {
     "name": "stderr",
     "output_type": "stream",
     "text": [
      "Ignoring wrong pointing object 6 0 (offset 0)\n",
      "Ignoring wrong pointing object 11 0 (offset 0)\n",
      "Ignoring wrong pointing object 13 0 (offset 0)\n",
      "Ignoring wrong pointing object 15 0 (offset 0)\n",
      "Ignoring wrong pointing object 17 0 (offset 0)\n",
      "Ignoring wrong pointing object 25 0 (offset 0)\n",
      "Ignoring wrong pointing object 27 0 (offset 0)\n",
      "Ignoring wrong pointing object 29 0 (offset 0)\n",
      "Ignoring wrong pointing object 36 0 (offset 0)\n",
      "Ignoring wrong pointing object 39 0 (offset 0)\n",
      "Ignoring wrong pointing object 72 0 (offset 0)\n",
      "Ignoring wrong pointing object 74 0 (offset 0)\n",
      "Ignoring wrong pointing object 76 0 (offset 0)\n",
      "Ignoring wrong pointing object 115 0 (offset 0)\n",
      "Ignoring wrong pointing object 117 0 (offset 0)\n",
      "Ignoring wrong pointing object 159 0 (offset 0)\n",
      "Ignoring wrong pointing object 194 0 (offset 0)\n",
      "Ignoring wrong pointing object 205 0 (offset 0)\n"
     ]
    }
   ],
   "source": [
    "# Example usage\n",
    "document_path = \"documents/3.pdf\"\n",
    "vectorstore = create_vector_database(document_path)\n"
   ]
  },
  {
   "cell_type": "code",
   "execution_count": 34,
   "id": "e67eeab8",
   "metadata": {},
   "outputs": [
    {
     "ename": "NameError",
     "evalue": "name 'context' is not defined",
     "output_type": "error",
     "traceback": [
      "\u001b[0;31m---------------------------------------------------------------------------\u001b[0m",
      "\u001b[0;31mNameError\u001b[0m                                 Traceback (most recent call last)",
      "Cell \u001b[0;32mIn[34], line 1\u001b[0m\n\u001b[0;32m----> 1\u001b[0m structured_data \u001b[38;5;241m=\u001b[39m \u001b[43mgenerate_response\u001b[49m\u001b[43m(\u001b[49m\u001b[43mvectorstore\u001b[49m\u001b[43m)\u001b[49m\n\u001b[1;32m      2\u001b[0m \u001b[38;5;28mprint\u001b[39m(\u001b[38;5;124m\"\u001b[39m\u001b[38;5;124mStructured Data:\u001b[39m\u001b[38;5;124m\"\u001b[39m, structured_data)\n",
      "Cell \u001b[0;32mIn[30], line 21\u001b[0m, in \u001b[0;36mgenerate_response\u001b[0;34m(vectorstore)\u001b[0m\n\u001b[1;32m     11\u001b[0m chain \u001b[38;5;241m=\u001b[39m (\n\u001b[1;32m     12\u001b[0m     {\n\u001b[1;32m     13\u001b[0m         \u001b[38;5;124m\"\u001b[39m\u001b[38;5;124mcontext\u001b[39m\u001b[38;5;124m\"\u001b[39m: retriever,\n\u001b[0;32m   (...)\u001b[0m\n\u001b[1;32m     17\u001b[0m     \u001b[38;5;241m|\u001b[39m parser\n\u001b[1;32m     18\u001b[0m )\n\u001b[1;32m     20\u001b[0m \u001b[38;5;66;03m# Invoke chain and parse response\u001b[39;00m\n\u001b[0;32m---> 21\u001b[0m llm_response \u001b[38;5;241m=\u001b[39m chain\u001b[38;5;241m.\u001b[39minvoke({\u001b[38;5;124m\"\u001b[39m\u001b[38;5;124mcontext\u001b[39m\u001b[38;5;124m\"\u001b[39m: \u001b[43mcontext\u001b[49m})\n\u001b[1;32m     23\u001b[0m \u001b[38;5;28;01mreturn\u001b[39;00m json\u001b[38;5;241m.\u001b[39mloads(llm_response)\n",
      "\u001b[0;31mNameError\u001b[0m: name 'context' is not defined"
     ]
    }
   ],
   "source": [
    "structured_data = generate_response(vectorstore)\n",
    "print(\"Structured Data:\", structured_data)"
   ]
  }
 ],
 "metadata": {
  "jupytext": {
   "cell_metadata_filter": "-all",
   "main_language": "python",
   "notebook_metadata_filter": "-all"
  },
  "language_info": {
   "name": "python"
  }
 },
 "nbformat": 4,
 "nbformat_minor": 5
}

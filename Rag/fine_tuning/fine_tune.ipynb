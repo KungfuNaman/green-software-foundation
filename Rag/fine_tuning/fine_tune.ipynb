{
 "cells": [
  {
   "cell_type": "code",
   "execution_count": 1,
   "id": "3f82d57e",
   "metadata": {},
   "outputs": [
    {
     "name": "stderr",
     "output_type": "stream",
     "text": [
      "d:\\gsf\\green-software-foundation\\.venv\\Lib\\site-packages\\tqdm\\auto.py:21: TqdmWarning: IProgress not found. Please update jupyter and ipywidgets. See https://ipywidgets.readthedocs.io/en/stable/user_install.html\n",
      "  from .autonotebook import tqdm as notebook_tqdm\n"
     ]
    }
   ],
   "source": [
    "from transformers import AutoModelForCausalLM, AutoTokenizer, TrainingArguments, BitsAndBytesConfig"
   ]
  },
  {
   "cell_type": "code",
   "execution_count": 2,
   "id": "4f9bcc1d",
   "metadata": {},
   "outputs": [],
   "source": [
    "from datasets import load_dataset"
   ]
  },
  {
   "cell_type": "code",
   "execution_count": 4,
   "id": "460e2309",
   "metadata": {},
   "outputs": [],
   "source": [
    "from trl import SFTTrainer"
   ]
  },
  {
   "cell_type": "code",
   "execution_count": 5,
   "id": "79429cfb",
   "metadata": {},
   "outputs": [],
   "source": [
    "from jinja2 import Template"
   ]
  },
  {
   "cell_type": "code",
   "execution_count": 6,
   "id": "3724eb15",
   "metadata": {},
   "outputs": [],
   "source": [
    "import yaml"
   ]
  },
  {
   "cell_type": "code",
   "execution_count": null,
   "id": "33cbe6d1",
   "metadata": {},
   "outputs": [],
   "source": []
  },
  {
   "cell_type": "code",
   "execution_count": 7,
   "id": "b1246eb4",
   "metadata": {},
   "outputs": [],
   "source": [
    "MODEL_ID = \"microsoft/Phi-3-mini-4k-instruct\""
   ]
  },
  {
   "cell_type": "code",
   "execution_count": 8,
   "id": "8d0803c5",
   "metadata": {},
   "outputs": [],
   "source": [
    "NEW_MODEL_NAME = \"TinyButMighty\""
   ]
  },
  {
   "cell_type": "code",
   "execution_count": 9,
   "id": "f9912f4e",
   "metadata": {},
   "outputs": [],
   "source": [
    "DATASET_NAME = \"macadeliccc/opus_samantha\""
   ]
  },
  {
   "cell_type": "code",
   "execution_count": 10,
   "id": "ae6585ae",
   "metadata": {},
   "outputs": [],
   "source": [
    "SPLIT = \"train\""
   ]
  },
  {
   "cell_type": "code",
   "execution_count": 11,
   "id": "f9554a3e",
   "metadata": {},
   "outputs": [],
   "source": [
    "MAX_SEQ_LENGTH = 2048"
   ]
  },
  {
   "cell_type": "code",
   "execution_count": 12,
   "id": "f4506284",
   "metadata": {},
   "outputs": [],
   "source": [
    "num_train_epochs = 1"
   ]
  },
  {
   "cell_type": "code",
   "execution_count": 13,
   "id": "899b2655",
   "metadata": {},
   "outputs": [],
   "source": [
    "license = \"apache-2.0\""
   ]
  },
  {
   "cell_type": "code",
   "execution_count": 14,
   "id": "0f25b804",
   "metadata": {},
   "outputs": [],
   "source": [
    "username = \"NamanAhuja\""
   ]
  },
  {
   "cell_type": "code",
   "execution_count": 15,
   "id": "13dc8534",
   "metadata": {},
   "outputs": [],
   "source": [
    "learning_rate = 1.41e-5"
   ]
  },
  {
   "cell_type": "code",
   "execution_count": 16,
   "id": "1f56ae9a",
   "metadata": {},
   "outputs": [],
   "source": [
    "per_device_train_batch_size = 4"
   ]
  },
  {
   "cell_type": "code",
   "execution_count": 17,
   "id": "80d70da2",
   "metadata": {},
   "outputs": [],
   "source": [
    "gradient_accumulation_steps = 1"
   ]
  },
  {
   "cell_type": "code",
   "execution_count": null,
   "id": "ba7fb33f",
   "metadata": {},
   "outputs": [],
   "source": []
  },
  {
   "cell_type": "code",
   "execution_count": 18,
   "id": "72f86f7f",
   "metadata": {},
   "outputs": [
    {
     "name": "stderr",
     "output_type": "stream",
     "text": [
      "d:\\gsf\\green-software-foundation\\.venv\\Lib\\site-packages\\huggingface_hub\\file_download.py:157: UserWarning: `huggingface_hub` cache-system uses symlinks by default to efficiently store duplicated files but your machine does not support them in C:\\Users\\HP\\.cache\\huggingface\\hub\\models--microsoft--Phi-3-mini-4k-instruct. Caching files will still work but in a degraded version that might require more space on your disk. This warning can be disabled by setting the `HF_HUB_DISABLE_SYMLINKS_WARNING` environment variable. For more details, see https://huggingface.co/docs/huggingface_hub/how-to-cache#limitations.\n",
      "To support symlinks on Windows, you either need to activate Developer Mode or to run Python as an administrator. In order to see activate developer mode, see this article: https://docs.microsoft.com/en-us/windows/apps/get-started/enable-your-device-for-development\n",
      "  warnings.warn(message)\n",
      "A new version of the following files was downloaded from https://huggingface.co/microsoft/Phi-3-mini-4k-instruct:\n",
      "- configuration_phi3.py\n",
      ". Make sure to double-check they do not contain any added malicious code. To avoid downloading new versions of the code file, you can pin a revision.\n",
      "A new version of the following files was downloaded from https://huggingface.co/microsoft/Phi-3-mini-4k-instruct:\n",
      "- modeling_phi3.py\n",
      ". Make sure to double-check they do not contain any added malicious code. To avoid downloading new versions of the code file, you can pin a revision.\n",
      "`flash-attention` package not found, consider installing for better performance: No module named 'flash_attn'.\n",
      "Current `flash-attention` does not support `window_size`. Either upgrade or use `attn_implementation='eager'`.\n",
      "Downloading shards:   0%|          | 0/2 [00:00<?, ?it/s]"
     ]
    }
   ],
   "source": [
    "model = AutoModelForCausalLM.from_pretrained(MODEL_ID, trust_remote_code=True)"
   ]
  },
  {
   "cell_type": "code",
   "execution_count": null,
   "id": "9c7166e2",
   "metadata": {},
   "outputs": [],
   "source": [
    "tokenizer = AutoTokenizer.from_pretrained(MODEL_ID, trust_remote_code=True)"
   ]
  },
  {
   "cell_type": "code",
   "execution_count": null,
   "id": "fc346913",
   "metadata": {},
   "outputs": [],
   "source": [
    "dataset = load_dataset(\"macadeliccc/opus_samantha\", split=\"train\")"
   ]
  },
  {
   "cell_type": "code",
   "execution_count": null,
   "id": "0c50fb2e",
   "metadata": {},
   "outputs": [],
   "source": []
  },
  {
   "cell_type": "code",
   "execution_count": null,
   "id": "8ff663bc",
   "metadata": {},
   "outputs": [],
   "source": [
    "EOS_TOKEN=tokenizer.eos_token_id"
   ]
  },
  {
   "cell_type": "code",
   "execution_count": null,
   "id": "f301aef4",
   "metadata": {},
   "outputs": [],
   "source": []
  },
  {
   "cell_type": "code",
   "execution_count": null,
   "id": "b7a6a0d9",
   "metadata": {},
   "outputs": [],
   "source": [
    "def process_dataset(mydata):\n",
    "\n",
    "    conversations = mydata[\"conversations\"]\n",
    "\n",
    "    texts = []\n",
    "\n",
    "    mapper = {\"system\": \"system\\n\", \"human\": \"\\nuser\\n\", \"gpt\": \"\\nassistant\\n\"}\n",
    "\n",
    "    end_mapper = {\"system\": \"\", \"human\": \"\", \"gpt\": \"\"}\n",
    "\n",
    "    for c in conversations:\n",
    "\n",
    "        text = \"\".join(f\"{mapper[(turn := x['from'])]} {x['value']}\\n{end_mapper[turn]}\" for x in c)\n",
    "\n",
    "        texts.append(f\"{text}{EOS_TOKEN}\")\n",
    "\n",
    "    return {\"text\": texts}"
   ]
  },
  {
   "cell_type": "code",
   "execution_count": null,
   "id": "4d92d8d7",
   "metadata": {},
   "outputs": [],
   "source": []
  },
  {
   "cell_type": "code",
   "execution_count": null,
   "id": "d79df5a3",
   "metadata": {},
   "outputs": [],
   "source": [
    "dataset = dataset.map(process_dataset, batched=True)"
   ]
  },
  {
   "cell_type": "code",
   "execution_count": null,
   "id": "d3b3cb9f",
   "metadata": {},
   "outputs": [],
   "source": [
    "print(dataset['text'][2])"
   ]
  },
  {
   "cell_type": "code",
   "execution_count": null,
   "id": "2fd40c6e",
   "metadata": {},
   "outputs": [],
   "source": []
  },
  {
   "cell_type": "code",
   "execution_count": null,
   "id": "f4470f0c",
   "metadata": {},
   "outputs": [],
   "source": [
    "args = TrainingArguments(\n",
    "\n",
    "    per_device_train_batch_size=1,\n",
    "\n",
    "    gradient_accumulation_steps=gradient_accumulation_steps,\n",
    "\n",
    "    gradient_checkpointing=True,\n",
    "\n",
    "    learning_rate=2e-5,\n",
    "\n",
    "    lr_scheduler_type=\"cosine\",\n",
    "\n",
    "    max_steps=-1,\n",
    "\n",
    "    num_train_epochs=num_train_epochs,\n",
    "\n",
    "    save_strategy=\"no\",\n",
    "\n",
    "    logging_steps=1,\n",
    "\n",
    "    output_dir=NEW_MODEL_NAME,\n",
    "\n",
    "    optim=\"paged_adamw_32bit\",\n",
    "\n",
    "    bf16=True,"
   ]
  },
  {
   "cell_type": "code",
   "execution_count": null,
   "id": "016c33ad",
   "metadata": {},
   "outputs": [],
   "source": [
    ")"
   ]
  },
  {
   "cell_type": "code",
   "execution_count": null,
   "id": "cbdab525",
   "metadata": {},
   "outputs": [],
   "source": []
  },
  {
   "cell_type": "code",
   "execution_count": null,
   "id": "3688ea6d",
   "metadata": {},
   "outputs": [],
   "source": [
    "trainer = SFTTrainer(\n",
    "\n",
    "    model=model,\n",
    "\n",
    "    args=args,\n",
    "\n",
    "    train_dataset=dataset,\n",
    "\n",
    "    dataset_text_field=\"text\",\n",
    "\n",
    "    max_seq_length=MAX_SEQ_LENGTH,\n",
    "\n",
    "    formatting_func=process_dataset"
   ]
  },
  {
   "cell_type": "code",
   "execution_count": null,
   "id": "53fe19aa",
   "metadata": {},
   "outputs": [],
   "source": [
    ")"
   ]
  },
  {
   "cell_type": "code",
   "execution_count": null,
   "id": "a4e9c48e",
   "metadata": {},
   "outputs": [],
   "source": []
  },
  {
   "cell_type": "code",
   "execution_count": null,
   "id": "b8f73447",
   "metadata": {},
   "outputs": [],
   "source": [
    "trainer.train()"
   ]
  }
 ],
 "metadata": {
  "jupytext": {
   "cell_metadata_filter": "-all",
   "main_language": "python",
   "notebook_metadata_filter": "-all"
  },
  "kernelspec": {
   "display_name": ".venv",
   "language": "python",
   "name": "python3"
  },
  "language_info": {
   "codemirror_mode": {
    "name": "ipython",
    "version": 3
   },
   "file_extension": ".py",
   "mimetype": "text/x-python",
   "name": "python",
   "nbconvert_exporter": "python",
   "pygments_lexer": "ipython3",
   "version": "3.11.7"
  }
 },
 "nbformat": 4,
 "nbformat_minor": 5
}

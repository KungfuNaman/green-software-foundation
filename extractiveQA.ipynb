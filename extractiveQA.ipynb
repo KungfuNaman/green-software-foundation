{
 "cells": [
  {
   "cell_type": "code",
   "execution_count": 1,
   "id": "5f2a9768",
   "metadata": {},
   "outputs": [
    {
     "name": "stderr",
     "output_type": "stream",
     "text": [
      "/Users/naman/Documents/groupProject/SimpleApplication/.venv/lib/python3.11/site-packages/tqdm/auto.py:21: TqdmWarning: IProgress not found. Please update jupyter and ipywidgets. See https://ipywidgets.readthedocs.io/en/stable/user_install.html\n",
      "  from .autonotebook import tqdm as notebook_tqdm\n",
      "No sentence-transformers model found with name bert-base-uncased. Creating a new one with mean pooling.\n",
      "/Users/naman/Documents/groupProject/SimpleApplication/.venv/lib/python3.11/site-packages/huggingface_hub/file_download.py:1132: FutureWarning: `resume_download` is deprecated and will be removed in version 1.0.0. Downloads always resume when possible. If you want to force a new download, use `force_download=True`.\n",
      "  warnings.warn(\n",
      "Batches: 100%|██████████| 1/1 [00:01<00:00,  1.02s/it]\n"
     ]
    },
    {
     "data": {
      "text/plain": [
       "{'writer': {'documents_written': 1}}"
      ]
     },
     "execution_count": 1,
     "metadata": {},
     "output_type": "execute_result"
    }
   ],
   "source": [
    "from haystack import Document\n",
    "from haystack import Pipeline\n",
    "from haystack.document_stores.in_memory import InMemoryDocumentStore\n",
    "from haystack.components.retrievers.in_memory import InMemoryEmbeddingRetriever\n",
    "from haystack.components.readers import ExtractiveReader\n",
    "from haystack.components.embedders import SentenceTransformersDocumentEmbedder\n",
    "from haystack.components.writers import DocumentWriter\n",
    "import pymupdf4llm\n",
    "\n",
    "\n",
    "def extractWithImages(pdfPath):\n",
    "    md_text = pymupdf4llm.to_markdown(pdfPath, write_images=True)\n",
    "    return md_text\n",
    "\n",
    "pdf_path=\"./documents/3.pdf\"\n",
    "dataset = extractWithImages(pdf_path)\n",
    "\n",
    "documents = [Document(content=dataset, meta={\"source\": pdf_path})]\n",
    "\n",
    "model = \"bert-base-uncased\"\n",
    "\n",
    "document_store = InMemoryDocumentStore()\n",
    "\n",
    "indexing_pipeline = Pipeline()\n",
    "\n",
    "indexing_pipeline.add_component(instance=SentenceTransformersDocumentEmbedder(model=model), name=\"embedder\")\n",
    "indexing_pipeline.add_component(instance=DocumentWriter(document_store=document_store), name=\"writer\")\n",
    "indexing_pipeline.connect(\"embedder.documents\", \"writer.documents\")\n",
    "\n",
    "indexing_pipeline.run({\"documents\": documents})"
   ]
  },
  {
   "cell_type": "code",
   "execution_count": 2,
   "id": "4b682e71",
   "metadata": {},
   "outputs": [
    {
     "data": {
      "text/plain": [
       "<haystack.core.pipeline.pipeline.Pipeline object at 0x29d51d690>\n",
       "🚅 Components\n",
       "  - embedder: SentenceTransformersTextEmbedder\n",
       "  - retriever: InMemoryEmbeddingRetriever\n",
       "  - reader: ExtractiveReader\n",
       "🛤️ Connections\n",
       "  - embedder.embedding -> retriever.query_embedding (List[float])\n",
       "  - retriever.documents -> reader.documents (List[Document])"
      ]
     },
     "execution_count": 2,
     "metadata": {},
     "output_type": "execute_result"
    }
   ],
   "source": [
    "from haystack.components.retrievers.in_memory import InMemoryEmbeddingRetriever\n",
    "from haystack.components.readers import ExtractiveReader\n",
    "from haystack.components.embedders import SentenceTransformersTextEmbedder\n",
    "\n",
    "\n",
    "retriever = InMemoryEmbeddingRetriever(document_store=document_store)\n",
    "reader = ExtractiveReader()\n",
    "reader.warm_up()\n",
    "\n",
    "extractive_qa_pipeline = Pipeline()\n",
    "\n",
    "extractive_qa_pipeline.add_component(instance=SentenceTransformersTextEmbedder(model=model), name=\"embedder\")\n",
    "extractive_qa_pipeline.add_component(instance=retriever, name=\"retriever\")\n",
    "extractive_qa_pipeline.add_component(instance=reader, name=\"reader\")\n",
    "\n",
    "extractive_qa_pipeline.connect(\"embedder.embedding\", \"retriever.query_embedding\")\n",
    "extractive_qa_pipeline.connect(\"retriever.documents\", \"reader.documents\")"
   ]
  },
  {
   "cell_type": "markdown",
   "id": "9ef64230",
   "metadata": {},
   "source": [
    "Try extracting some answers."
   ]
  },
  {
   "cell_type": "code",
   "execution_count": 4,
   "id": "60a29f7b",
   "metadata": {
    "lines_to_next_cell": 3
   },
   "outputs": [
    {
     "name": "stderr",
     "output_type": "stream",
     "text": [
      "Batches: 100%|██████████| 1/1 [00:01<00:00,  1.65s/it]\n"
     ]
    },
    {
     "data": {
      "text/plain": [
       "{'reader': {'answers': [ExtractedAnswer(query='what is the name of the project ?', score=0.6380125284194946, data='Yummy Inc', document=Document(id=e0e0cebded82722dc00fa203859c616a5d5c6f91013c35ed4b7d8a7094b8b59a, content: '|Sample Software Architecture Document (version 0.7)|Col2|\n",
       "   |---|---|\n",
       "   \n",
       "   \n",
       "   # Software Architecture Docum...', meta: {'source': './documents/3.pdf'}, score: 40.024666270246755), context=None, document_offset=ExtractedAnswer.Span(start=9791, end=9800), context_offset=None, meta={}),\n",
       "   ExtractedAnswer(query='what is the name of the project ?', score=0.6315432190895081, data='The Software Architecture Document', document=Document(id=e0e0cebded82722dc00fa203859c616a5d5c6f91013c35ed4b7d8a7094b8b59a, content: '|Sample Software Architecture Document (version 0.7)|Col2|\n",
       "   |---|---|\n",
       "   \n",
       "   \n",
       "   # Software Architecture Docum...', meta: {'source': './documents/3.pdf'}, score: 40.024666270246755), context=None, document_offset=ExtractedAnswer.Span(start=7128, end=7162), context_offset=None, meta={}),\n",
       "   ExtractedAnswer(query='what is the name of the project ?', score=0.1333767385084812, data=None, document=None, context=None, document_offset=None, context_offset=None, meta={})]}}"
      ]
     },
     "execution_count": 4,
     "metadata": {},
     "output_type": "execute_result"
    }
   ],
   "source": [
    "query = \"which architecture is getting used  ?\"\n",
    "extractive_qa_pipeline.run(\n",
    "    data={\"embedder\": {\"text\": query}, \"retriever\": {\"top_k\": 3}, \"reader\": {\"query\": query, \"top_k\": 2}}\n",
    ")"
   ]
  }
 ],
 "metadata": {
  "jupytext": {
   "cell_metadata_filter": "-all",
   "main_language": "python",
   "notebook_metadata_filter": "-all"
  },
  "kernelspec": {
   "display_name": ".venv",
   "language": "python",
   "name": "python3"
  },
  "language_info": {
   "codemirror_mode": {
    "name": "ipython",
    "version": 3
   },
   "file_extension": ".py",
   "mimetype": "text/x-python",
   "name": "python",
   "nbconvert_exporter": "python",
   "pygments_lexer": "ipython3",
   "version": "3.11.7"
  }
 },
 "nbformat": 4,
 "nbformat_minor": 5
}
